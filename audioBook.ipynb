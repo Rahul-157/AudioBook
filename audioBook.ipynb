{
 "cells": [
  {
   "cell_type": "code",
   "execution_count": 12,
   "metadata": {},
   "outputs": [],
   "source": [
    "import sys\n",
    "from pdfminer.pdfinterp import PDFResourceManager, PDFPageInterpreter\n",
    "from pdfminer.pdfpage import PDFPage\n",
    "from pdfminer.converter import  TextConverter\n",
    "from pdfminer.layout import LAParams\n",
    "import io\n",
    "import random\n",
    "from gtts import gTTS\n",
    "import os\n",
    "\n",
    "\n",
    "filename=\"\"\n",
    "\n",
    "def random_name():\n",
    "    s=\"\"\n",
    "    a=\"abcdfeghijklmnopqrstuvwxyz1234567890\"\n",
    "    for i in range(6):\n",
    "        s+=a[int(random.random()*100)%36]\n",
    "    return s\n",
    "\n",
    "def pdfparser(data):\n",
    "    global filename\n",
    "    fp = open(data, 'rb')\n",
    "    rsrcmgr = PDFResourceManager()\n",
    "    retstr = io.StringIO()\n",
    "    codec = 'utf-8'\n",
    "    laparams = LAParams()\n",
    "    device = TextConverter(rsrcmgr, retstr,  laparams=laparams)\n",
    "    interpreter = PDFPageInterpreter(rsrcmgr, device)\n",
    "    for page in PDFPage.get_pages(fp):\n",
    "        interpreter.process_page(page)\n",
    "        data =  retstr.getvalue()\n",
    "    filename=random_name()   \n",
    "    data = data.replace(\"(cid:127)\",\"\")\n",
    "    textfile = open(filename,'w+')\n",
    "    textfile.write(data)\n",
    "    textfile.close()\n",
    "\n",
    "    \n",
    "    \n",
    "pdfparser(\"p.pdf\")\n",
    "print(\"User Confirmation\")\n",
    "ipt = input()\n",
    "print(\"done\")\n",
    "f = open(filename,\"r\")\n",
    "text = f.read()\n",
    "tts = gTTS(text,\"hi\")\n",
    "tts.save(filename+\".mp3\")\n",
    "os.remove(filename)"
   ]
  }
 ],
 "metadata": {
  "kernelspec": {
   "display_name": "Python 3",
   "language": "python",
   "name": "python3"
  },
  "language_info": {
   "codemirror_mode": {
    "name": "ipython",
    "version": 3
   },
   "file_extension": ".py",
   "mimetype": "text/x-python",
   "name": "python",
   "nbconvert_exporter": "python",
   "pygments_lexer": "ipython3",
   "version": "3.7.9"
  }
 },
 "nbformat": 4,
 "nbformat_minor": 4
}
